{
 "metadata": {
  "language_info": {
   "codemirror_mode": {
    "name": "ipython",
    "version": 3
   },
   "file_extension": ".py",
   "mimetype": "text/x-python",
   "name": "python",
   "nbconvert_exporter": "python",
   "pygments_lexer": "ipython3",
   "version": "3.7.6-final"
  },
  "orig_nbformat": 2,
  "kernelspec": {
   "name": "python3",
   "display_name": "Python 3"
  }
 },
 "nbformat": 4,
 "nbformat_minor": 2,
 "cells": [
  {
   "cell_type": "code",
   "execution_count": 1,
   "metadata": {},
   "outputs": [],
   "source": [
    "import requests\n",
    "import urllib.request\n",
    "import time\n",
    "from bs4 import BeautifulSoup"
   ]
  },
  {
   "cell_type": "code",
   "execution_count": 5,
   "metadata": {},
   "outputs": [],
   "source": [
    "url = 'http://jiofi.local.html/cgi-bin/en-jio/mStatus.html'\n",
    "response = requests.get(url)"
   ]
  },
  {
   "cell_type": "code",
   "execution_count": 6,
   "metadata": {},
   "outputs": [],
   "source": [
    "soup = BeautifulSoup(response.text, 'html.parser')"
   ]
  },
  {
   "cell_type": "code",
   "execution_count": 21,
   "metadata": {},
   "outputs": [],
   "source": [
    "labels = soup.findAll(\"label\")"
   ]
  },
  {
   "cell_type": "code",
   "execution_count": 47,
   "metadata": {
    "tags": []
   },
   "outputs": [
    {
     "output_type": "stream",
     "name": "stdout",
     "text": "\nlSIMStatusValue\n00:04:46:02\nlDashCurConnValue\nTDD\nLoperMode\n40\npDashEngineerInform_bandValue\n20MHz\npDashEngineerInform_bandwidthValue\n38750\npDashEngineerInform_earfcnValue\n59\npDashEngineerInform_phycellValue\n405856\npDashAutoApn_plmnValue\njionet\npDashAutoApn_LteApnValue\n405856009C046DA12\npDashEngineerInform_globalCellValue\n\npDashEngineerInform_ecgiValue\n-96 dBm\npDashEngineerInform_rsrpValue\n-16 dB\npDashEngineerInform_rsrqValue\n-5 dB\npDashEngineerInform_sinrValue\n26.79.124.254\nLIPV4AddValue\n255.255.255.252\nLIPV4NetmaskValue\n26.79.124.253\nLIPV4GatewayValue\n49.45.0.1\nLDNSIPV4Value\n2409:4064:2e06:2c65:e56e:b576:9e0d:ac6b\nLIPV6AddValue\n64\nLIPV6PrefixLength\nfe80::d996:2fd:592c:3c76\nLIPV6GatewayValue\n2405:200:800::1\nLDNSIPV6Value\n\nlWLANStatus\nJioFi3_590751\nlWirelessNwValue\nDHCP\nlLanOperMode\n255.255.255.0\nlRouterMask\n192.168.225.1\nlRouterIP\n2C:6F:C9:59:07:51\nlRouterMAC\n\nlAutoChannelStatus\n\nlChannelNumber\n\nlBandwid\nWPA2-PSK\nlSecurityModeValue\n3\nlConnDeviceValue\n2.34 MB\nlsentPackets\n9.64 MB\nlRecPackets\n<a href=\"#.\">Reset</a>\nresetTrafficDbMifi2\n http://jiofi.local.html\ntdns_addr\n2020/09/09 12:44:08\nurrenttime\nFoxconn\nlODM\nJMR541\nlProductID\n2C6FC9\nlOUI\nRUFMFKD00363000\nlSerialNum\n\npDashRouterImeiValue\n\nlIMSI\n\nlMSISDN\n\nlICCID\nDischarging\nlDashChargeStatus\n49%\nlDashBatteryQuantity\n2C:6F:C9:59:07:51\nlPrimaryMacIdValue\nJioFi3_590751\nlPrimaryHostNameValue\nB3, B5 and B40\nlFrequencyBandsValue\nFXN_JMR541_R3.10\nlSoftVersion\nAug 22 01:28:27 CST 2017\nlCurrentSoftwareDateValue\nFXN_JMR541_V015\nlHardVersion\n 30s\nlpeformanceMonitorPeriod\n16.83%\nlcpuMaxUsage\n16.83%\nlcpuMinUsage\n48928 KB\nlmaxMemoryUsage\n48924 KB\nlminMemoryUsage\n42 Kbps\nlulCurrentDataRate\n2 Mbps\nlulMaxDataRate\n3 Kbps\nlulMinDataRate\n117 Kbps\nldlCurrentDataRate\n5 Mbps\nldlMaxDataRate\n5 Kbps\nldlMinDataRate\n"
    }
   ],
   "source": [
    "for label in labels:\n",
    "    #if str(label['id']) == \"lSIMStatusValue\":\n",
    "    if label.has_attr('id'):\n",
    "        #a = label['id']\n",
    "        print(label.decode_contents())\n",
    "        print(label['id'])"
   ]
  },
  {
   "cell_type": "code",
   "execution_count": 64,
   "metadata": {},
   "outputs": [],
   "source": [
    "class Jio_DataInfo():\n",
    "    def __init__(self):\n",
    "        self.url = 'http://jiofi.local.html/cgi-bin/en-jio/mStatus.html'\n",
    "    \n",
    "    def sendRequest(self):\n",
    "        #url = \n",
    "        self.response = requests.get(self.url)\n",
    "    \n",
    "    def ifResponseOk(self):\n",
    "        return True if self.response.status_code == 200 else False\n",
    "\n",
    "    def createBeautifulSoupObj(self):\n",
    "        self.soup_jio_ResData = BeautifulSoup(self.response.text, 'html.parser') \n",
    "    \n",
    "    def getSelectedData(self, validIdList):\n",
    "        validData = []\n",
    "        if self.ifResponseOk():\n",
    "            self.createBeautifulSoupObj()\n",
    "            labels = self.soup_jio_ResData.findAll('label')\n",
    "            for label in labels:\n",
    "                if label.has_attr('id') and label['id'] in validIdList:\n",
    "                    tempData = (label['id'], label.decode_contents())\n",
    "                    validData.append(tempData)\n",
    "        \n",
    "        return validData"
   ]
  },
  {
   "cell_type": "code",
   "execution_count": 82,
   "metadata": {
    "tags": []
   },
   "outputs": [
    {
     "output_type": "stream",
     "name": "stdout",
     "text": "[('lDashChargeStatus', 'Fully Charged'), ('lDashBatteryQuantity', '100%'), ('lulCurrentDataRate', '25 Kbps'), ('ldlCurrentDataRate', '18 Kbps')]\n"
    }
   ],
   "source": [
    "jio_req = Jio_DataInfo()\n",
    "jio_req.sendRequest()\n",
    "validIds = ['lDashBatteryQuantity', 'lDashChargeStatus', 'lulCurrentDataRate', 'ldlCurrentDataRate']\n",
    "if jio_req.ifResponseOk():\n",
    "    print(jio_req.getSelectedData(validIds))"
   ]
  },
  {
   "cell_type": "code",
   "execution_count": null,
   "metadata": {},
   "outputs": [],
   "source": []
  }
 ]
}